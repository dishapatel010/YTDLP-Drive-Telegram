{
  "cells": [
    {
      "cell_type": "markdown",
      "metadata": {
        "id": "h2xqEvDD3tFl"
      },
      "source": [
        "## YTDLP-Drive-Telegram\n",
        "#### By <a href=\"https://github.com/dishapatel010\">@dishapatel010</a>\n",
        "This Notebook uses the <b>YTDLP</b> library to download videos/playlists from YouTube in the highest resolution stream. <br> Also can move the video to the Google Drive & Upload to Telegram.\n",
        "\n",
        "<a href=\"https://github.com/dishapatel010/YTDLP-Drive-Telegram\">![Github Repo](https://img.shields.io/badge/View%20On%20Github-%23000000.svg?style=for-the-badge&logo=Github&logoColor=white)</a>"
      ]
    },
    {
      "cell_type": "markdown",
      "metadata": {
        "id": "_xvLe9xY5eks"
      },
      "source": [
        "### Installing & Importing The Dependencies"
      ]
    },
    {
      "cell_type": "code",
      "execution_count": null,
      "metadata": {
        "id": "3WjThmcR3wdY"
      },
      "outputs": [],
      "source": [
        "!pip install yt_dlp pyrogram tgcrypto\n",
        "from google.colab import drive\n",
        "import os, sys, shutil\n",
        "import yt_dlp\n",
        "import asyncio, nest_asyncio\n",
        "from pyrogram import Client, errors"
      ]
    },
    {
      "cell_type": "markdown",
      "metadata": {
        "id": "WQ005aOM5m93"
      },
      "source": [
        "### Mounting To Google Drive"
      ]
    },
    {
      "cell_type": "code",
      "execution_count": null,
      "metadata": {
        "id": "y_AEWDjW5doa"
      },
      "outputs": [],
      "source": [
        "drive.mount('/content/drive')"
      ]
    },
    {
      "cell_type": "markdown",
      "metadata": {
        "id": "d307ryc26nqu"
      },
      "source": [
        "### Playlist Downloader"
      ]
    },
    {
      "cell_type": "code",
      "source": [
        "url = \"https://youtube.com/playlist?list=OLAK5uy_kbZybHHW0BwIQo5RLB4n2_gVcjS5wNVSo\"\n",
        "ffmpeg_path = \"/usr/bin/ffmpeg\"\n",
        "\n",
        "ytdl_opts = {\n",
        "    'outtmpl': 'downloads/%(title)s.%(ext)s',\n",
        "    'format': 'best',\n",
        "    'merge_output_format': 'mkv',\n",
        "    'ffmpeg_location': ffmpeg_path,\n",
        "    'postprocessors': [{\n",
        "        'key': 'FFmpegVideoRemuxer',\n",
        "        'preferedformat': 'mkv'\n",
        "    }]\n",
        "}\n",
        "\n",
        "with yt_dlp.YoutubeDL(ytdl_opts) as ydl:\n",
        "    info_dict = ydl.extract_info(url, download=True)\n",
        "    video_title = info_dict.get('title', None)\n",
        "\n",
        "print(\"Playlist downloaded successfully!\")"
      ],
      "metadata": {
        "id": "oSmTmt6Lrzgz"
      },
      "execution_count": null,
      "outputs": []
    },
    {
      "cell_type": "markdown",
      "source": [
        "### Telegram Upload"
      ],
      "metadata": {
        "id": "I0sidXmkRTvy"
      }
    },
    {
      "cell_type": "code",
      "source": [
        "# Set API credentials and chat ID\n",
        "BOT_TOKEN = \"\"\n",
        "CHAT_ID = \"\"\n",
        "API_HASH = \"\"\n",
        "API_ID = \"\"\n",
        "# Set path to source folder\n",
        "source_folder = os.path.join(os.getcwd(), \"downloads\")\n",
        "\n",
        "async def main():\n",
        "    # Get total number of files in folder\n",
        "    total_files = len(os.listdir(source_folder))\n",
        "    \n",
        "    # Initialize progress message with status\n",
        "    message_text = f\"Uploading {total_files} files\\n\\n\"\n",
        "    progress_message = await app.send_message(chat_id=int(CHAT_ID), text=message_text)\n",
        "    await app.pin_chat_message(chat_id=int(CHAT_ID), message_id=progress_message.id)\n",
        "\n",
        "    # Loop through files in source folder\n",
        "    for i, filename in enumerate(os.listdir(source_folder)):\n",
        "        filepath = os.path.join(source_folder, filename)\n",
        "        \n",
        "        # Send file to Telegram chat using bot\n",
        "        try:\n",
        "            await app.send_video(chat_id=int(CHAT_ID), file_name=filename, caption=filename, video=filepath)\n",
        "            \n",
        "            # Update progress message with current file count\n",
        "            message_text = f\"Uploading {total_files} files:\\n\\n{i+1}/{total_files} files uploaded ({(i+1)*100/total_files:.2f}%)\"\n",
        "            await app.edit_message_text(chat_id=int(CHAT_ID), message_id=progress_message.id, text=message_text)\n",
        "            \n",
        "            # Wait for some time before sending the next video (optional)\n",
        "            await asyncio.sleep(3)\n",
        "            \n",
        "        except errors.FloodWait as e:\n",
        "            print(f\"Waiting {e.x} seconds...\")\n",
        "            await asyncio.sleep(e.x)\n",
        "            await app.send_video(chat_id=int(CHAT_ID), file_name=filename, caption=filename, video=filepath)\n",
        "            \n",
        "            # Update progress message with current file count\n",
        "            message_text = f\"Uploading {total_files} files:\\n\\n{i+1}/{total_files} files uploaded ({(i+1)*100/total_files:.2f}%)\"\n",
        "            await app.edit_message_text(chat_id=int(CHAT_ID), message_id=progress_message.id, text=message_text)\n",
        "\n",
        "            # Wait for some time before sending the next video (optional)\n",
        "            await asyncio.sleep(3)\n",
        "\n",
        "        except Exception as e:\n",
        "            print(f\"Error: {e}\")\n",
        "            \n",
        "    # Send completion message to Telegram chat\n",
        "    completion_message = \"All files uploaded successfully!\"\n",
        "    message_text = f\"All files uploaded successfully!\\n\\n{total_files}/{total_files} files uploaded (100.00%)\"\n",
        "    await app.unpin_chat_message(chat_id=int(CHAT_ID), message_id=progress_message.id)\n",
        "    await app.delete_messages(chat_id=int(CHAT_ID), message_ids=progress_message.id)\n",
        "    await app.send_message(chat_id=int(CHAT_ID), text=message_text)\n",
        "\n",
        "if __name__ == '__main__':\n",
        "    # Initialize Pyrogram client and bot\n",
        "    app = Client(\"ytdlpgdtg\", api_id=API_ID, api_hash=API_HASH, bot_token=BOT_TOKEN)\n",
        "\n",
        "    nest_asyncio.apply()\n",
        "    async with app:\n",
        "        await main()"
      ],
      "metadata": {
        "id": "ZaJt7Z-Ywh9G"
      },
      "execution_count": null,
      "outputs": []
    },
    {
      "cell_type": "markdown",
      "source": [
        "### Move to Drive"
      ],
      "metadata": {
        "id": "AHKK-ZeuRzZU"
      }
    },
    {
      "cell_type": "code",
      "source": [
        "# Move downloaded video to /content/drive/MyDrive\n",
        "source_folder = os.path.join(os.getcwd(), 'downloads')\n",
        "destination_folder = '/content/drive/MyDrive/'\n",
        "\n",
        "for file in os.listdir(source_folder):\n",
        "    source_path = os.path.join(source_folder, file)\n",
        "    destination_path = os.path.join(destination_folder, file)\n",
        "    \n",
        "    if not os.path.exists(destination_path):\n",
        "        shutil.move(source_path, destination_path)\n",
        "        print(\"Video moved to destination folder:\", destination_folder)\n",
        "    else:\n",
        "        print(\"File already exists in destination folder:\", destination_folder)"
      ],
      "metadata": {
        "id": "u6remw1cEx6p"
      },
      "execution_count": null,
      "outputs": []
    },
    {
      "cell_type": "markdown",
      "source": [
        "### Delete Download directory"
      ],
      "metadata": {
        "id": "ef2EMm7kR4dc"
      }
    },
    {
      "cell_type": "code",
      "source": [
        "# Specify the path of the directory to be deleted\n",
        "dir_path = \"/content/downloads\"\n",
        "\n",
        "try:\n",
        "  # Remove the directory using shutil.rmtree()\n",
        "  shutil.rmtree(dir_path)\n",
        "  print(f\"{dir_path} has been deleted successfully.\")\n",
        "except OSError as e:\n",
        "  print(f\"Error: {dir_path} : {e.strerror}\")"
      ],
      "metadata": {
        "id": "AYFtoj9TFtsd"
      },
      "execution_count": null,
      "outputs": []
    }
  ],
  "metadata": {
    "colab": {
      "provenance": []
    },
    "kernelspec": {
      "display_name": "Python 3",
      "name": "python3"
    },
    "language_info": {
      "name": "python"
    }
  },
  "nbformat": 4,
  "nbformat_minor": 0
}